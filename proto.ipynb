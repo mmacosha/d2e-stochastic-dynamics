{
 "cells": [
  {
   "cell_type": "code",
   "execution_count": null,
   "metadata": {},
   "outputs": [],
   "source": [
    "import functools\n",
    "import inspect\n",
    "\n",
    "\n",
    "def build_config(init_func):\n",
    "    @functools.wraps(init_func)\n",
    "    def wrapper(self, *args, **kwargs):\n",
    "        sig = inspect.signature(init_func)\n",
    "        param_pairs = list(sig.parameters.items())[1:]\n",
    "        \n",
    "        config = {\n",
    "            name: None if param.default is inspect.Parameter.empty else param.default\n",
    "            for name, param in param_pairs\n",
    "        }\n",
    "\n",
    "        config.update(dict(zip(config.keys(), args)))\n",
    "        config.update(kwargs)\n",
    "        self.config = config\n",
    "\n",
    "        init_func(self, *args, **kwargs)\n",
    "\n",
    "    return wrapper\n"
   ]
  },
  {
   "cell_type": "code",
   "execution_count": null,
   "metadata": {},
   "outputs": [],
   "source": [
    "import torch\n",
    "\n",
    "x = torch.randn(16, 2)\n"
   ]
  },
  {
   "cell_type": "code",
   "execution_count": null,
   "metadata": {},
   "outputs": [],
   "source": [
    "class MyClass:\n",
    "    @build_config\n",
    "    def __init__(\n",
    "        self, \n",
    "        name, \n",
    "        surname, \n",
    "        age,\n",
    "        weight, \n",
    "        height,\n",
    "        sex='fmj',\n",
    "        race='xxxxxx', \n",
    "        features=None,\n",
    "        aux_stuff=None,\n",
    "    ):\n",
    "        self.here = 'there'\n",
    "    \n",
    "    def add(self, a, b):\n",
    "        print(self.here)\n",
    "        return a + b\n"
   ]
  },
  {
   "cell_type": "code",
   "execution_count": 82,
   "metadata": {},
   "outputs": [
    {
     "name": "stdout",
     "output_type": "stream",
     "text": [
      "-----\n"
     ]
    },
    {
     "data": {
      "text/plain": [
       "{'name': 'peter',\n",
       " 'surname': 'borrow',\n",
       " 'age': 12,\n",
       " 'weight': 124,\n",
       " 'height': 0.234,\n",
       " 'sex': 'fmj',\n",
       " 'race': 'xxxxxx',\n",
       " 'features': (1, 2, 'bdick'),\n",
       " 'aux_stuff': None}"
      ]
     },
     "execution_count": 82,
     "metadata": {},
     "output_type": "execute_result"
    }
   ],
   "source": [
    "cls = MyClass('peter', 'borrow', 12, 124, 0.234, features=(1, 2, 'bdick'))\n",
    "print('-----')\n",
    "cls.config"
   ]
  },
  {
   "cell_type": "code",
   "execution_count": 22,
   "metadata": {},
   "outputs": [
    {
     "name": "stdout",
     "output_type": "stream",
     "text": [
      "{'a': 1, 'b': 2, 'c': 3, 'd': 5}\n"
     ]
    }
   ],
   "source": [
    "import inspect\n",
    "\n",
    "def collect_args_and_kwargs(cls):\n",
    "    \"\"\"\n",
    "    A class decorator to collect all __init__ arguments (with their names and values)\n",
    "    into a dictionary and store it as an instance attribute.\n",
    "    \"\"\"\n",
    "    original_init = cls.__init__\n",
    "\n",
    "    def new_init(self, *args, **kwargs):\n",
    "        # Get the signature of the __init__ method\n",
    "        sig = inspect.signature(original_init)\n",
    "        bound_args = sig.bind(self, *args, **kwargs)\n",
    "        bound_args.apply_defaults()\n",
    "\n",
    "        # Exclude 'self' and store the remaining arguments in a dictionary\n",
    "        self.init_args = {key: value for key, value in bound_args.arguments.items() if key != 'self'}\n",
    "\n",
    "        # Call the original __init__ method\n",
    "        original_init(self, *args, **kwargs)\n",
    "\n",
    "    cls.__init__ = new_init\n",
    "    return cls\n",
    "\n",
    "# Example usage\n",
    "@collect_args_and_kwargs\n",
    "class ExampleClass:\n",
    "    def __init__(self, a, b, c=3, d=4):\n",
    "        self.a = a\n",
    "        self.b = b\n",
    "        self.c = c\n",
    "        self.d = d\n",
    "\n",
    "# Instantiate the class\n",
    "example = ExampleClass(1, 2, d=5)\n",
    "\n",
    "# Access the collected arguments with their names and values\n",
    "print(example.init_args)\n"
   ]
  }
 ],
 "metadata": {
  "kernelspec": {
   "display_name": "sb",
   "language": "python",
   "name": "python3"
  },
  "language_info": {
   "codemirror_mode": {
    "name": "ipython",
    "version": 3
   },
   "file_extension": ".py",
   "mimetype": "text/x-python",
   "name": "python",
   "nbconvert_exporter": "python",
   "pygments_lexer": "ipython3",
   "version": "3.11.11"
  }
 },
 "nbformat": 4,
 "nbformat_minor": 2
}
