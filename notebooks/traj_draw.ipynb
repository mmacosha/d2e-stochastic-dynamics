{
 "cells": [
  {
   "cell_type": "code",
   "execution_count": 1,
   "id": "d1ec4e47-8bc8-4756-ad2f-549b279ffa09",
   "metadata": {},
   "outputs": [],
   "source": [
    "%load_ext autoreload"
   ]
  },
  {
   "cell_type": "code",
   "execution_count": 2,
   "id": "efe6f923-7ea5-4f58-81bb-ffa547c19531",
   "metadata": {},
   "outputs": [],
   "source": [
    "import os\n",
    "os.chdir(\"../\")"
   ]
  },
  {
   "cell_type": "code",
   "execution_count": 3,
   "id": "6d19dada-7538-49e2-9302-ae86a6131d57",
   "metadata": {},
   "outputs": [
    {
     "name": "stderr",
     "output_type": "stream",
     "text": [
      "/Users/ktamogashev/Documents/PhD/projects/sb/sbenv/lib/python3.11/site-packages/tqdm/auto.py:21: TqdmWarning: IProgress not found. Please update jupyter and ipywidgets. See https://ipywidgets.readthedocs.io/en/stable/user_install.html\n",
      "  from .autonotebook import tqdm as notebook_tqdm\n",
      "/Users/ktamogashev/Documents/PhD/projects/sb/sb/utils.py:171: UserWarning: Path 'external/hamiltorch' does not exist, package. Correstponding modules are not imported.\n",
      "  warnings.warn(\n"
     ]
    }
   ],
   "source": [
    "%autoreload 2\n",
    "from pathlib import Path\n",
    "\n",
    "import torch\n",
    "import torch.nn as nn\n",
    "\n",
    "import random\n",
    "import math\n",
    "import ot as pot\n",
    "import numpy as np\n",
    "from tqdm.auto import trange\n",
    "from matplotlib import pyplot as plt\n",
    "from IPython.display import clear_output\n",
    "\n",
    "from sb.nn.utils import ModelOutput\n",
    "from sb.losses.utils import get_model_outputs\n",
    "from sb.data.datasets import GMM, TwoMoons, SCurve\n",
    "from sb.losses import compute_fwd_tlm_loss_v2, compute_bwd_tlm_loss_v2\n",
    "from sb.samplers.utils import sample_trajectory_v2"
   ]
  },
  {
   "cell_type": "code",
   "execution_count": null,
   "id": "6581b224-2884-4553-ac15-73bf8f4a274c",
   "metadata": {},
   "outputs": [],
   "source": []
  },
  {
   "cell_type": "code",
   "execution_count": null,
   "id": "176dbd9d-c788-445c-b834-dfc76896c4da",
   "metadata": {},
   "outputs": [],
   "source": []
  },
  {
   "cell_type": "code",
   "execution_count": null,
   "id": "6c98a78f-cdb8-4bd4-b27f-7e8345832c61",
   "metadata": {},
   "outputs": [],
   "source": []
  },
  {
   "cell_type": "code",
   "execution_count": null,
   "id": "246df70f-5203-47ce-9ed3-f0a4f730bd31",
   "metadata": {},
   "outputs": [],
   "source": []
  },
  {
   "cell_type": "code",
   "execution_count": null,
   "id": "55d02441-cf91-4382-8913-55ab4dc2a554",
   "metadata": {},
   "outputs": [],
   "source": []
  },
  {
   "cell_type": "code",
   "execution_count": null,
   "id": "4e2dc2ad-4e3b-4d20-9cf5-8b8457b5a13b",
   "metadata": {},
   "outputs": [],
   "source": []
  }
 ],
 "metadata": {
  "kernelspec": {
   "display_name": "Python 3 (ipykernel)",
   "language": "python",
   "name": "python3"
  },
  "language_info": {
   "codemirror_mode": {
    "name": "ipython",
    "version": 3
   },
   "file_extension": ".py",
   "mimetype": "text/x-python",
   "name": "python",
   "nbconvert_exporter": "python",
   "pygments_lexer": "ipython3",
   "version": "3.11.13"
  }
 },
 "nbformat": 4,
 "nbformat_minor": 5
}
